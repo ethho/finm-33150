{
 "cells": [
  {
   "cell_type": "markdown",
   "metadata": {},
   "source": [
    "Below, I install my own implementation of Professor Boonstra's \"memoize DataFrame to disk\" feature. The source code can be found at [github.com/ethho/memoize](https://github.com/ethho/memoize)."
   ]
  },
  {
   "cell_type": "code",
   "execution_count": 1,
   "metadata": {},
   "outputs": [
    {
     "name": "stdout",
     "output_type": "stream",
     "text": [
      "Collecting git+https://github.com/ethho/memoize.git\n",
      "  Cloning https://github.com/ethho/memoize.git to /tmp/pip-req-build-kvwnanfb\n",
      "  Running command git clone --filter=blob:none --quiet https://github.com/ethho/memoize.git /tmp/pip-req-build-kvwnanfb\n",
      "  Resolved https://github.com/ethho/memoize.git to commit bef633bd22e4acde44cccb63399a176c6cef79b9\n",
      "  Installing build dependencies ... \u001b[?25ldone\n",
      "\u001b[?25h  Getting requirements to build wheel ... \u001b[?25ldone\n",
      "\u001b[?25h  Preparing metadata (pyproject.toml) ... \u001b[?25ldone\n",
      "\u001b[?25h"
     ]
    }
   ],
   "source": [
    "!python3 -m pip install git+https://github.com/ethho/memoize.git"
   ]
  },
  {
   "cell_type": "code",
   "execution_count": 2,
   "metadata": {
    "collapsed": false,
    "jupyter": {
     "outputs_hidden": false
    }
   },
   "outputs": [],
   "source": [
    "import json\n",
    "import re\n",
    "import os\n",
    "from glob import glob\n",
    "from dataclasses import dataclass\n",
    "from typing import List, Dict, Tuple, Optional\n",
    "import matplotlib.pyplot as plt\n",
    "import pandas as pd\n",
    "import numpy as np\n",
    "from scipy.stats import norm, probplot\n",
    "import quandl\n",
    "import functools\n",
    "import plotly.express as px\n",
    "import plotly.graph_objects as go\n",
    "from joblib import Parallel, delayed\n",
    "import multiprocessing\n",
    "from multiprocessing import Pool\n",
    "from src.ubacktester import (\n",
    "    BacktestEngine, StrategyBase, PositionBase, FeedBase,\n",
    "    PlotlyPlotter, FeedID, PriceFeed, px_plot\n",
    ")\n",
    "from memoize.dataframe import memoize_df\n",
    "\n",
    "%matplotlib inline\n",
    "pd.options.display.float_format = '{:,.4f}'.format"
   ]
  },
  {
   "cell_type": "markdown",
   "metadata": {
    "tags": []
   },
   "source": [
    "# 20230202_hw4_ho_ethan_12350006\n",
    "\n",
    "@mpcs\n",
    "@finm33550\n",
    "\n",
    "Ethan Ho 2/2/2023\n",
    "\n",
    "----"
   ]
  },
  {
   "cell_type": "markdown",
   "metadata": {
    "tags": []
   },
   "source": [
    "## Configuration & Helper Functions\n",
    "\n",
    "The following cell contains helper functions and configuration options that I will use in this notebook."
   ]
  },
  {
   "cell_type": "code",
   "execution_count": 3,
   "metadata": {},
   "outputs": [],
   "source": [
    "def get_secrets(fp='./secrets.json'):\n",
    "    \"\"\"\n",
    "    Reads secret values such as API keys from a JSON-formatted file at `fp`.\n",
    "    \"\"\"\n",
    "    with open(fp, 'r') as f:\n",
    "        data = json.load(f)\n",
    "    return data\n",
    "\n",
    "def get_quandl_api_key() -> str:\n",
    "    \"\"\"\n",
    "    Returns Quandl API key stored in secrets.json.\n",
    "    \"\"\"\n",
    "    secrets = get_secrets()\n",
    "    key = secrets.get('NASTAQ_DATA_API_KEY')\n",
    "    assert key, f\"NASTAQ_DATA_API_KEY field in secrets.json is empty or does not exist\"\n",
    "    return key\n",
    "\n",
    "def strip_str_dtypes(df: pd.DataFrame) -> pd.DataFrame:\n",
    "    \"\"\"\n",
    "    Given a DataFrame, strips values in columns with string or object\n",
    "    dtype. I noticed that this was an issue when I saw some m_ticker values\n",
    "    like \"AAPL       \" with trailing whitespace.\n",
    "    \"\"\"\n",
    "    for col in df.columns:\n",
    "        if pd.api.types.is_string_dtype(df[col]) or pd.api.types.is_object_dtype(df[col]):\n",
    "            df[col] = df[col].str.strip()\n",
    "    return df\n",
    "\n",
    "@memoize_df(cache_dir='/tmp/memoize')\n",
    "def fetch_quandl_quotemedia_prices(\n",
    "    start_date, end_date, ticker\n",
    ") -> pd.DataFrame:\n",
    "    df = quandl.get_table(\n",
    "        'QUOTEMEDIA/PRICES',\n",
    "        date={'gte': start_date, 'lte': end_date},\n",
    "        ticker=ticker,\n",
    "        api_key=get_quandl_api_key(),\n",
    "        paginate=True,\n",
    "    )\n",
    "    df['date'] = pd.to_datetime(df['date'])\n",
    "    df.sort_values(by='date', inplace=True)\n",
    "    return df\n",
    "\n",
    "@memoize_df(cache_dir='/tmp/memoize')\n",
    "def fetch_quandl_tbill_prices(\n",
    "    start_date, end_date,\n",
    ") -> pd.DataFrame:\n",
    "    \"\"\"Fetch table of treasury bill prices from Quandl.\"\"\"\n",
    "    df = quandl.get(\n",
    "        ['USTREASURY/BILLRATES'],\n",
    "        returns=\"pandas\",\n",
    "        start_date=start_date,\n",
    "        end_date=end_date,\n",
    "        ticker=ticker,\n",
    "        api_key=get_quandl_api_key(),\n",
    "    )\n",
    "    df = df.reset_index().rename(columns={'Date': 'date'})\n",
    "    df['date'] = pd.to_datetime(df['date'])\n",
    "    df.sort_values(by='date', inplace=True)\n",
    "    return df\n",
    "\n",
    "def unique_index_keys(df, level=0) -> List[str]:\n",
    "    return df.index.get_level_values(level=level).unique().tolist()\n",
    "\n",
    "def risk_free_rate(**kw) -> float:\n",
    "    \"\"\"Calculates risk-free rate R_f from the 3-month T-bill rate.\"\"\"\n",
    "    tbill_prices = fetch_quandl_tbill_prices(**kw)\n",
    "    tbill_returns = tbill_prices['USTREASURY/BILLRATES - 13 Wk Coupon Equiv']\n",
    "    return tbill_returns.mean()"
   ]
  },
  {
   "cell_type": "markdown",
   "metadata": {
    "tags": []
   },
   "source": [
    "# Fetch High Frequency Trading Data"
   ]
  },
  {
   "cell_type": "code",
   "execution_count": null,
   "metadata": {},
   "outputs": [],
   "source": []
  },
  {
   "cell_type": "code",
   "execution_count": null,
   "metadata": {},
   "outputs": [],
   "source": []
  },
  {
   "cell_type": "code",
   "execution_count": null,
   "metadata": {},
   "outputs": [],
   "source": []
  },
  {
   "cell_type": "code",
   "execution_count": null,
   "metadata": {},
   "outputs": [],
   "source": []
  }
 ],
 "metadata": {
  "kernelspec": {
   "display_name": "Python 3 (ipykernel)",
   "language": "python",
   "name": "python3"
  },
  "language_info": {
   "codemirror_mode": {
    "name": "ipython",
    "version": 3
   },
   "file_extension": ".py",
   "mimetype": "text/x-python",
   "name": "python",
   "nbconvert_exporter": "python",
   "pygments_lexer": "ipython3",
   "version": "3.10.8"
  }
 },
 "nbformat": 4,
 "nbformat_minor": 4
}
