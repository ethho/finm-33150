{
 "cells": [
  {
   "cell_type": "markdown",
   "metadata": {},
   "source": [
    "Below, I install my own implementation of Professor Boonstra's \"memoize DataFrame to disk\" feature. The source code can be found at [github.com/ethho/memoize](https://github.com/ethho/memoize)."
   ]
  },
  {
   "cell_type": "code",
   "execution_count": 1,
   "metadata": {},
   "outputs": [
    {
     "name": "stdout",
     "output_type": "stream",
     "text": [
      "Collecting git+https://github.com/ethho/memoize.git\n",
      "  Cloning https://github.com/ethho/memoize.git to /tmp/pip-req-build-lrz744ia\n",
      "  Running command git clone --filter=blob:none --quiet https://github.com/ethho/memoize.git /tmp/pip-req-build-lrz744ia\n",
      "  Resolved https://github.com/ethho/memoize.git to commit bef633bd22e4acde44cccb63399a176c6cef79b9\n",
      "  Installing build dependencies ... \u001b[?25ldone\n",
      "\u001b[?25h  Getting requirements to build wheel ... \u001b[?25ldone\n",
      "\u001b[?25h  Preparing metadata (pyproject.toml) ... \u001b[?25ldone\n",
      "\u001b[?25h"
     ]
    }
   ],
   "source": [
    "!python3 -m pip install git+https://github.com/ethho/memoize.git"
   ]
  },
  {
   "cell_type": "code",
   "execution_count": 21,
   "metadata": {
    "collapsed": false,
    "jupyter": {
     "outputs_hidden": false
    }
   },
   "outputs": [],
   "source": [
    "import json\n",
    "import re\n",
    "import os\n",
    "from glob import glob\n",
    "from dataclasses import dataclass\n",
    "from typing import List, Dict, Tuple, Optional\n",
    "import matplotlib.pyplot as plt\n",
    "import pandas as pd\n",
    "import numpy as np\n",
    "from scipy.stats import norm, probplot\n",
    "import quandl\n",
    "import functools\n",
    "import plotly.express as px\n",
    "import plotly.graph_objects as go\n",
    "from joblib import Parallel, delayed\n",
    "import multiprocessing\n",
    "from multiprocessing import Pool\n",
    "from src.ubacktester import (\n",
    "    BacktestEngine, StrategyBase, PositionBase, FeedBase,\n",
    "    PlotlyPlotter, FeedID, PriceFeed, px_plot, ClockBase\n",
    ")\n",
    "from memoize.dataframe import memoize_df\n",
    "\n",
    "%matplotlib inline\n",
    "pd.options.display.float_format = '{:,.4f}'.format"
   ]
  },
  {
   "cell_type": "markdown",
   "metadata": {
    "tags": []
   },
   "source": [
    "# 20230202_hw4_ho_ethan_12350006\n",
    "\n",
    "@mpcs\n",
    "@finm33550\n",
    "\n",
    "Ethan Ho 2/2/2023\n",
    "\n",
    "----"
   ]
  },
  {
   "cell_type": "markdown",
   "metadata": {
    "tags": []
   },
   "source": [
    "## Configuration & Helper Functions\n",
    "\n",
    "The following cell contains helper functions and configuration options that I will use in this notebook."
   ]
  },
  {
   "cell_type": "code",
   "execution_count": 3,
   "metadata": {},
   "outputs": [],
   "source": [
    "def get_secrets(fp='./secrets.json'):\n",
    "    \"\"\"\n",
    "    Reads secret values such as API keys from a JSON-formatted file at `fp`.\n",
    "    \"\"\"\n",
    "    with open(fp, 'r') as f:\n",
    "        data = json.load(f)\n",
    "    return data\n",
    "\n",
    "def get_quandl_api_key() -> str:\n",
    "    \"\"\"\n",
    "    Returns Quandl API key stored in secrets.json.\n",
    "    \"\"\"\n",
    "    secrets = get_secrets()\n",
    "    key = secrets.get('NASTAQ_DATA_API_KEY')\n",
    "    assert key, f\"NASTAQ_DATA_API_KEY field in secrets.json is empty or does not exist\"\n",
    "    return key\n",
    "\n",
    "def strip_str_dtypes(df: pd.DataFrame) -> pd.DataFrame:\n",
    "    \"\"\"\n",
    "    Given a DataFrame, strips values in columns with string or object\n",
    "    dtype. I noticed that this was an issue when I saw some m_ticker values\n",
    "    like \"AAPL       \" with trailing whitespace.\n",
    "    \"\"\"\n",
    "    for col in df.columns:\n",
    "        if pd.api.types.is_string_dtype(df[col]) or pd.api.types.is_object_dtype(df[col]):\n",
    "            df[col] = df[col].str.strip()\n",
    "    return df\n",
    "\n",
    "@memoize_df(cache_dir='/tmp/memoize')\n",
    "def fetch_quandl_quotemedia_prices(\n",
    "    start_date, end_date, ticker\n",
    ") -> pd.DataFrame:\n",
    "    df = quandl.get_table(\n",
    "        'QUOTEMEDIA/PRICES',\n",
    "        date={'gte': start_date, 'lte': end_date},\n",
    "        ticker=ticker,\n",
    "        api_key=get_quandl_api_key(),\n",
    "        paginate=True,\n",
    "    )\n",
    "    df['date'] = pd.to_datetime(df['date'])\n",
    "    df.sort_values(by='date', inplace=True)\n",
    "    return df\n",
    "\n",
    "@memoize_df(cache_dir='/tmp/memoize')\n",
    "def fetch_quandl_tbill_prices(\n",
    "    start_date, end_date,\n",
    ") -> pd.DataFrame:\n",
    "    \"\"\"Fetch table of treasury bill prices from Quandl.\"\"\"\n",
    "    df = quandl.get(\n",
    "        ['USTREASURY/BILLRATES'],\n",
    "        returns=\"pandas\",\n",
    "        start_date=start_date,\n",
    "        end_date=end_date,\n",
    "        ticker=ticker,\n",
    "        api_key=get_quandl_api_key(),\n",
    "    )\n",
    "    df = df.reset_index().rename(columns={'Date': 'date'})\n",
    "    df['date'] = pd.to_datetime(df['date'])\n",
    "    df.sort_values(by='date', inplace=True)\n",
    "    return df\n",
    "\n",
    "def unique_index_keys(df, level=0) -> List[str]:\n",
    "    return df.index.get_level_values(level=level).unique().tolist()\n",
    "\n",
    "def risk_free_rate(**kw) -> float:\n",
    "    \"\"\"Calculates risk-free rate R_f from the 3-month T-bill rate.\"\"\"\n",
    "    tbill_prices = fetch_quandl_tbill_prices(**kw)\n",
    "    tbill_returns = tbill_prices['USTREASURY/BILLRATES - 13 Wk Coupon Equiv']\n",
    "    return tbill_returns.mean()"
   ]
  },
  {
   "cell_type": "markdown",
   "metadata": {
    "tags": []
   },
   "source": [
    "# Fetch High Frequency Trading Data"
   ]
  },
  {
   "cell_type": "code",
   "execution_count": 4,
   "metadata": {},
   "outputs": [
    {
     "name": "stdout",
     "output_type": "stream",
     "text": [
      "book_narrow_BTC-USD_2021.delim\ttrades_narrow_BTC-USD_2021.delim\n",
      "book_narrow_ETH-BTC_2021.delim\ttrades_narrow_ETH-BTC_2021.delim\n",
      "book_narrow_ETH-USD_2021.delim\ttrades_narrow_ETH-USD_2021.delim\n"
     ]
    }
   ],
   "source": [
    "!ls data/Crypto/2021/For_Homework/"
   ]
  },
  {
   "cell_type": "code",
   "execution_count": 6,
   "metadata": {},
   "outputs": [
    {
     "data": {
      "text/html": [
       "<div>\n",
       "<style scoped>\n",
       "    .dataframe tbody tr th:only-of-type {\n",
       "        vertical-align: middle;\n",
       "    }\n",
       "\n",
       "    .dataframe tbody tr th {\n",
       "        vertical-align: top;\n",
       "    }\n",
       "\n",
       "    .dataframe thead th {\n",
       "        text-align: right;\n",
       "    }\n",
       "</style>\n",
       "<table border=\"1\" class=\"dataframe\">\n",
       "  <thead>\n",
       "    <tr style=\"text-align: right;\">\n",
       "      <th></th>\n",
       "      <th>Ask1PriceMillionths</th>\n",
       "      <th>Bid1PriceMillionths</th>\n",
       "      <th>Ask1SizeBillionths</th>\n",
       "      <th>Bid1SizeBillionths</th>\n",
       "      <th>Ask2PriceMillionths</th>\n",
       "      <th>Bid2PriceMillionths</th>\n",
       "      <th>Ask2SizeBillionths</th>\n",
       "      <th>Bid2SizeBillionths</th>\n",
       "      <th>received_utc_nanoseconds</th>\n",
       "      <th>dt</th>\n",
       "      <th>Mid</th>\n",
       "    </tr>\n",
       "  </thead>\n",
       "  <tbody>\n",
       "    <tr>\n",
       "      <th>995</th>\n",
       "      <td>61607370000</td>\n",
       "      <td>61607360000</td>\n",
       "      <td>180694490</td>\n",
       "      <td>45000000</td>\n",
       "      <td>61608500000</td>\n",
       "      <td>61607350000</td>\n",
       "      <td>280000000</td>\n",
       "      <td>46621560</td>\n",
       "      <td>1618561363576815100</td>\n",
       "      <td>1618561363622659000</td>\n",
       "      <td>61,607,365,000.0000</td>\n",
       "    </tr>\n",
       "    <tr>\n",
       "      <th>996</th>\n",
       "      <td>61607370000</td>\n",
       "      <td>61607360000</td>\n",
       "      <td>152106580</td>\n",
       "      <td>45000000</td>\n",
       "      <td>61608500000</td>\n",
       "      <td>61607350000</td>\n",
       "      <td>280000000</td>\n",
       "      <td>46621560</td>\n",
       "      <td>1618561363581388000</td>\n",
       "      <td>1618561363629171000</td>\n",
       "      <td>61,607,365,000.0000</td>\n",
       "    </tr>\n",
       "    <tr>\n",
       "      <th>997</th>\n",
       "      <td>61607370000</td>\n",
       "      <td>61607360000</td>\n",
       "      <td>219190760</td>\n",
       "      <td>45000000</td>\n",
       "      <td>61608500000</td>\n",
       "      <td>61607350000</td>\n",
       "      <td>280000000</td>\n",
       "      <td>46621560</td>\n",
       "      <td>1618561363585827000</td>\n",
       "      <td>1618561363633613000</td>\n",
       "      <td>61,607,365,000.0000</td>\n",
       "    </tr>\n",
       "    <tr>\n",
       "      <th>998</th>\n",
       "      <td>61607370000</td>\n",
       "      <td>61607360000</td>\n",
       "      <td>152106580</td>\n",
       "      <td>45000000</td>\n",
       "      <td>61608500000</td>\n",
       "      <td>61607350000</td>\n",
       "      <td>280000000</td>\n",
       "      <td>46621560</td>\n",
       "      <td>1618561363593017000</td>\n",
       "      <td>1618561363641559000</td>\n",
       "      <td>61,607,365,000.0000</td>\n",
       "    </tr>\n",
       "    <tr>\n",
       "      <th>999</th>\n",
       "      <td>61607370000</td>\n",
       "      <td>61607360000</td>\n",
       "      <td>180694490</td>\n",
       "      <td>45000000</td>\n",
       "      <td>61608500000</td>\n",
       "      <td>61607350000</td>\n",
       "      <td>280000000</td>\n",
       "      <td>46621560</td>\n",
       "      <td>1618561363603331000</td>\n",
       "      <td>1618561363649797000</td>\n",
       "      <td>61,607,365,000.0000</td>\n",
       "    </tr>\n",
       "  </tbody>\n",
       "</table>\n",
       "</div>"
      ],
      "text/plain": [
       "     Ask1PriceMillionths  Bid1PriceMillionths  Ask1SizeBillionths  \\\n",
       "995          61607370000          61607360000           180694490   \n",
       "996          61607370000          61607360000           152106580   \n",
       "997          61607370000          61607360000           219190760   \n",
       "998          61607370000          61607360000           152106580   \n",
       "999          61607370000          61607360000           180694490   \n",
       "\n",
       "     Bid1SizeBillionths  Ask2PriceMillionths  Bid2PriceMillionths  \\\n",
       "995            45000000          61608500000          61607350000   \n",
       "996            45000000          61608500000          61607350000   \n",
       "997            45000000          61608500000          61607350000   \n",
       "998            45000000          61608500000          61607350000   \n",
       "999            45000000          61608500000          61607350000   \n",
       "\n",
       "     Ask2SizeBillionths  Bid2SizeBillionths  received_utc_nanoseconds  \\\n",
       "995           280000000            46621560       1618561363576815100   \n",
       "996           280000000            46621560       1618561363581388000   \n",
       "997           280000000            46621560       1618561363585827000   \n",
       "998           280000000            46621560       1618561363593017000   \n",
       "999           280000000            46621560       1618561363603331000   \n",
       "\n",
       "                      dt                 Mid  \n",
       "995  1618561363622659000 61,607,365,000.0000  \n",
       "996  1618561363629171000 61,607,365,000.0000  \n",
       "997  1618561363633613000 61,607,365,000.0000  \n",
       "998  1618561363641559000 61,607,365,000.0000  \n",
       "999  1618561363649797000 61,607,365,000.0000  "
      ]
     },
     "execution_count": 6,
     "metadata": {},
     "output_type": "execute_result"
    }
   ],
   "source": [
    "DATA_DIR = 'data/Crypto'\n",
    "\n",
    "def read_delim_gz(fp: str) -> pd.DataFrame:\n",
    "    if fp.endswith('.gz'):\n",
    "        !gzip -d {fp}\n",
    "        fp = fp[:-3]\n",
    "    # assert os.path.isfile(fp)\n",
    "    df = pd.read_csv(fp, delim_whitespace=True)\n",
    "    df.rename(columns={\n",
    "        'timestamp_utc_nanoseconds': 'dt',\n",
    "    }, inplace=True)\n",
    "    return df\n",
    "\n",
    "book = read_delim_gz('data/Crypto/2021/For_Homework/book_narrow_BTC-USD_2021.delim')\n",
    "trades = read_delim_gz('data/Crypto/2021/For_Homework/trades_narrow_BTC-USD_2021.delim')\n",
    "book.head(1000).tail()"
   ]
  },
  {
   "cell_type": "code",
   "execution_count": 7,
   "metadata": {},
   "outputs": [
    {
     "data": {
      "text/html": [
       "<div>\n",
       "<style scoped>\n",
       "    .dataframe tbody tr th:only-of-type {\n",
       "        vertical-align: middle;\n",
       "    }\n",
       "\n",
       "    .dataframe tbody tr th {\n",
       "        vertical-align: top;\n",
       "    }\n",
       "\n",
       "    .dataframe thead th {\n",
       "        text-align: right;\n",
       "    }\n",
       "</style>\n",
       "<table border=\"1\" class=\"dataframe\">\n",
       "  <thead>\n",
       "    <tr style=\"text-align: right;\">\n",
       "      <th></th>\n",
       "      <th>received_utc_nanoseconds</th>\n",
       "      <th>dt</th>\n",
       "      <th>PriceMillionths</th>\n",
       "      <th>SizeBillionths</th>\n",
       "      <th>Side</th>\n",
       "    </tr>\n",
       "  </thead>\n",
       "  <tbody>\n",
       "    <tr>\n",
       "      <th>995</th>\n",
       "      <td>1618090477003403000</td>\n",
       "      <td>1618090477019409000</td>\n",
       "      <td>59182390000</td>\n",
       "      <td>16837980</td>\n",
       "      <td>1.0000</td>\n",
       "    </tr>\n",
       "    <tr>\n",
       "      <th>996</th>\n",
       "      <td>1618090477101050000</td>\n",
       "      <td>1618090477110242000</td>\n",
       "      <td>59182390000</td>\n",
       "      <td>4152600</td>\n",
       "      <td>1.0000</td>\n",
       "    </tr>\n",
       "    <tr>\n",
       "      <th>997</th>\n",
       "      <td>1618090477418420000</td>\n",
       "      <td>1618090477437993000</td>\n",
       "      <td>59183600000</td>\n",
       "      <td>151460</td>\n",
       "      <td>1.0000</td>\n",
       "    </tr>\n",
       "    <tr>\n",
       "      <th>998</th>\n",
       "      <td>1618090478217125000</td>\n",
       "      <td>1618090478217639000</td>\n",
       "      <td>59183530000</td>\n",
       "      <td>1008600</td>\n",
       "      <td>1.0000</td>\n",
       "    </tr>\n",
       "    <tr>\n",
       "      <th>999</th>\n",
       "      <td>1618090479200375000</td>\n",
       "      <td>1618090479216013000</td>\n",
       "      <td>59181260000</td>\n",
       "      <td>151460</td>\n",
       "      <td>1.0000</td>\n",
       "    </tr>\n",
       "  </tbody>\n",
       "</table>\n",
       "</div>"
      ],
      "text/plain": [
       "     received_utc_nanoseconds                   dt  PriceMillionths  \\\n",
       "995       1618090477003403000  1618090477019409000      59182390000   \n",
       "996       1618090477101050000  1618090477110242000      59182390000   \n",
       "997       1618090477418420000  1618090477437993000      59183600000   \n",
       "998       1618090478217125000  1618090478217639000      59183530000   \n",
       "999       1618090479200375000  1618090479216013000      59181260000   \n",
       "\n",
       "     SizeBillionths   Side  \n",
       "995        16837980 1.0000  \n",
       "996         4152600 1.0000  \n",
       "997          151460 1.0000  \n",
       "998         1008600 1.0000  \n",
       "999          151460 1.0000  "
      ]
     },
     "execution_count": 7,
     "metadata": {},
     "output_type": "execute_result"
    }
   ],
   "source": [
    "trades.head(1000).tail()"
   ]
  },
  {
   "cell_type": "markdown",
   "metadata": {},
   "source": [
    "Check that `Side` is integral for all values."
   ]
  },
  {
   "cell_type": "code",
   "execution_count": null,
   "metadata": {},
   "outputs": [],
   "source": [
    "(trades['Side'] == trades['Side'].astype(int)).all()"
   ]
  },
  {
   "cell_type": "code",
   "execution_count": null,
   "metadata": {},
   "outputs": [],
   "source": [
    "2**63 / 9e18"
   ]
  },
  {
   "cell_type": "code",
   "execution_count": 27,
   "metadata": {},
   "outputs": [],
   "source": [
    "@dataclass\n",
    "class AccumulationStratBase(StrategyBase):\n",
    "    USE_NS_DT = True\n",
    "    \n",
    "    def step(self):\n",
    "        pass\n",
    "\n",
    "\n",
    "@dataclass\n",
    "class Trades(FeedBase):\n",
    "    USE_NS_DT = True\n",
    "    \n",
    "    # timestamp_utc_nanoseconds: int\n",
    "    name: str\n",
    "    PriceMillionths: int = 0\n",
    "    SizeBillionths: int = 0\n",
    "    Side: int = 0\n",
    "    \n",
    "@dataclass\n",
    "class Book(FeedBase):\n",
    "    USE_NS_DT = True\n",
    "\n",
    "    # timestamp_utc_nanoseconds: int\n",
    "    Ask1PriceMillionths: int\n",
    "    Bid1PriceMillionths: int\n",
    "    Ask2PriceMillionths: int\n",
    "    Bid2PriceMillionths: int\n",
    "    Bid1SizeBillionths: int\n",
    "    Ask1SizeBillionths: int\n",
    "    Bid2SizeBillionths: int\n",
    "    Ask2SizeBillionths: int"
   ]
  },
  {
   "cell_type": "code",
   "execution_count": 18,
   "metadata": {},
   "outputs": [],
   "source": [
    "dti = pd.concat([book['dt'], trades['dt']]).sort_values().unique()"
   ]
  },
  {
   "cell_type": "code",
   "execution_count": 22,
   "metadata": {},
   "outputs": [],
   "source": [
    "clock = ClockBase(dti)"
   ]
  },
  {
   "cell_type": "code",
   "execution_count": 28,
   "metadata": {},
   "outputs": [],
   "source": [
    "trades_feed = Trades.from_df(trades)"
   ]
  },
  {
   "cell_type": "code",
   "execution_count": null,
   "metadata": {},
   "outputs": [],
   "source": [
    "def test_accumulate():\n",
    "    \n",
    "    be = BacktestEngine(clock=clock)\n",
    "    be.add_feed(trades_feed, name='trades')\n",
    "    strat1 = AccumulationStratBase(cash_equity=1e4)\n",
    "    be.add_strategy(strat1)\n",
    "    be.run()\n",
    "\n",
    "    # strat1.plot(\n",
    "    #     show=False,\n",
    "    #     # include_cols=['daily_pct_returns'],\n",
    "    #     # scale_cols={'nshort': 40, 'nlong': 40}\n",
    "    #     include_cols=['returns', 'nshort', 'nlong', ],\n",
    "    #     scale_cols={'nshort': 40, 'nlong': 40, }\n",
    "    # )\n",
    "\n",
    "test_accumulate()"
   ]
  },
  {
   "cell_type": "code",
   "execution_count": null,
   "metadata": {},
   "outputs": [],
   "source": []
  }
 ],
 "metadata": {
  "kernelspec": {
   "display_name": "Python 3 (ipykernel)",
   "language": "python",
   "name": "python3"
  },
  "language_info": {
   "codemirror_mode": {
    "name": "ipython",
    "version": 3
   },
   "file_extension": ".py",
   "mimetype": "text/x-python",
   "name": "python",
   "nbconvert_exporter": "python",
   "pygments_lexer": "ipython3",
   "version": "3.10.8"
  }
 },
 "nbformat": 4,
 "nbformat_minor": 4
}
